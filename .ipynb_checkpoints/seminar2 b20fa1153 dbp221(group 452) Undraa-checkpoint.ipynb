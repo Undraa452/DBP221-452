{
 "cells": [
  {
   "cell_type": "code",
   "execution_count": 31,
   "metadata": {},
   "outputs": [],
   "source": [
    "#Бодлого1\n",
    "def palindrome(s):\n",
    "    s = s.lower()\n",
    "    return s == s[::-1]"
   ]
  },
  {
   "cell_type": "code",
   "execution_count": 32,
   "metadata": {},
   "outputs": [
    {
     "name": "stdout",
     "output_type": "stream",
     "text": [
      "Хэрэм шош мэрэх\n"
     ]
    },
    {
     "data": {
      "text/plain": [
       "True"
      ]
     },
     "execution_count": 32,
     "metadata": {},
     "output_type": "execute_result"
    }
   ],
   "source": [
    "h = input()\n",
    "palindrome(h)"
   ]
  },
  {
   "cell_type": "code",
   "execution_count": 25,
   "metadata": {},
   "outputs": [],
   "source": [
    "#Бодлого2\n",
    "def up_low(strings):\n",
    "    up_count=0\n",
    "    low_count=0\n",
    "    for x in strings:\n",
    "        for j in x:\n",
    "            if j.isupper():\n",
    "                up_count+=1\n",
    "            else: \n",
    "                low_count+=1\n",
    "    print('Том үсгийн тоо:', up_count)\n",
    "    print('Жижиг үсгийн тоо:', low_count)"
   ]
  },
  {
   "cell_type": "code",
   "execution_count": 50,
   "metadata": {},
   "outputs": [
    {
     "name": "stdout",
     "output_type": "stream",
     "text": [
      "HYghf uTjnhf\n",
      "Том үсгийн тоо: 3\n",
      "Жижиг үсгийн тоо: 8\n"
     ]
    }
   ],
   "source": [
    "a = [str(s) for s in input().split()]\n",
    "up_low(a)"
   ]
  },
  {
   "cell_type": "code",
   "execution_count": 51,
   "metadata": {},
   "outputs": [],
   "source": [
    "#Бодлого3\n",
    "def multiple(numbers):\n",
    "    mult = 1\n",
    "    for i in numbers:\n",
    "        mult = mult * i\n",
    "    return mult"
   ]
  },
  {
   "cell_type": "code",
   "execution_count": 22,
   "metadata": {},
   "outputs": [
    {
     "name": "stdout",
     "output_type": "stream",
     "text": [
      "22 5 2 8\n",
      "1760\n"
     ]
    }
   ],
   "source": [
    "a = [int(s) for s in input().split()]\n",
    "print(multiple(a))"
   ]
  },
  {
   "cell_type": "code",
   "execution_count": 23,
   "metadata": {},
   "outputs": [],
   "source": [
    "#Бодлого4\n",
    "def factorial(n):\n",
    "    res = 1\n",
    "    for i in range(1, n+1):\n",
    "        res = res * i\n",
    "    return res"
   ]
  },
  {
   "cell_type": "code",
   "execution_count": 24,
   "metadata": {},
   "outputs": [
    {
     "name": "stdout",
     "output_type": "stream",
     "text": [
      "5\n",
      "120\n"
     ]
    }
   ],
   "source": [
    "n = int(input())\n",
    "print(factorial(n))"
   ]
  },
  {
   "cell_type": "code",
   "execution_count": 33,
   "metadata": {},
   "outputs": [],
   "source": [
    "#Бодлого5\n",
    "def reverse(lst):\n",
    "    lst.reverse()\n",
    "    return lst"
   ]
  },
  {
   "cell_type": "code",
   "execution_count": 34,
   "metadata": {},
   "outputs": [
    {
     "name": "stdout",
     "output_type": "stream",
     "text": [
      "10 11 12 13 14 15\n",
      "['15', '14', '13', '12', '11', '10']\n"
     ]
    }
   ],
   "source": [
    "a = [str(s) for s in input().split()]\n",
    "print(reverse(a))"
   ]
  },
  {
   "cell_type": "code",
   "execution_count": 38,
   "metadata": {},
   "outputs": [],
   "source": [
    "#Бодлого6\n",
    "def add(numbers):\n",
    "    res = 0\n",
    "    for i in numbers:\n",
    "        res += i\n",
    "    return res"
   ]
  },
  {
   "cell_type": "code",
   "execution_count": 39,
   "metadata": {},
   "outputs": [
    {
     "name": "stdout",
     "output_type": "stream",
     "text": [
      "22 5 2 8\n",
      "37\n"
     ]
    }
   ],
   "source": [
    "a = [int(s) for s in input().split()]\n",
    "print(add(a))"
   ]
  },
  {
   "cell_type": "code",
   "execution_count": 41,
   "metadata": {},
   "outputs": [],
   "source": [
    "#Бодлого7\n",
    "def not_overlapped(strings):\n",
    "    res = []\n",
    "    for i in strings:\n",
    "        if i not in res:\n",
    "            res.append(i)\n",
    "    return res"
   ]
  },
  {
   "cell_type": "code",
   "execution_count": 42,
   "metadata": {},
   "outputs": [
    {
     "name": "stdout",
     "output_type": "stream",
     "text": [
      "haha 121 haha 5245 121 hha\n",
      "['haha', '121', '5245', 'hha']\n"
     ]
    }
   ],
   "source": [
    "a = [str(s) for s in input().split()]\n",
    "print(not_overlapped(a))"
   ]
  },
  {
   "cell_type": "code",
   "execution_count": 45,
   "metadata": {},
   "outputs": [],
   "source": [
    "#Бодлого8\n",
    "def highest(a, b, c):\n",
    "    if b<= a >= c:\n",
    "        return a\n",
    "    elif a <= b >= c:\n",
    "        return b\n",
    "    else:\n",
    "        return c"
   ]
  },
  {
   "cell_type": "code",
   "execution_count": 46,
   "metadata": {},
   "outputs": [
    {
     "name": "stdout",
     "output_type": "stream",
     "text": [
      "6\n"
     ]
    }
   ],
   "source": [
    "print(highest(4, 6, 5))"
   ]
  }
 ],
 "metadata": {
  "kernelspec": {
   "display_name": "Python 3",
   "language": "python",
   "name": "python3"
  },
  "language_info": {
   "codemirror_mode": {
    "name": "ipython",
    "version": 3
   },
   "file_extension": ".py",
   "mimetype": "text/x-python",
   "name": "python",
   "nbconvert_exporter": "python",
   "pygments_lexer": "ipython3",
   "version": "3.8.5"
  }
 },
 "nbformat": 4,
 "nbformat_minor": 4
}
