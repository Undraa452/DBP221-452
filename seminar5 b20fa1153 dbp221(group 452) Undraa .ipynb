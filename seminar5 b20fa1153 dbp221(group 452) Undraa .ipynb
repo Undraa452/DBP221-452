{
 "cells": [
  {
   "cell_type": "code",
   "execution_count": 21,
   "metadata": {},
   "outputs": [
    {
     "name": "stdout",
     "output_type": "stream",
     "text": [
      "6\n",
      "\n",
      "*\n",
      "**\n",
      "***\n",
      "****\n",
      "*****\n",
      "******\n"
     ]
    }
   ],
   "source": [
    "#Даалгавар1\n",
    "a = int(input())\n",
    "str = '*'\n",
    "for i in range(a+1):\n",
    "    print(str*i)"
   ]
  },
  {
   "cell_type": "code",
   "execution_count": 22,
   "metadata": {},
   "outputs": [
    {
     "name": "stdout",
     "output_type": "stream",
     "text": [
      "6\n",
      "[]\n",
      "['*']\n",
      "['*', '*']\n",
      "['*', '*', '*']\n",
      "['*', '*', '*', '*']\n",
      "['*', '*', '*', '*', '*']\n",
      "['*', '*', '*', '*', '*', '*']\n"
     ]
    }
   ],
   "source": [
    "#Даалгавар2\n",
    "a = int(input())\n",
    "str = '*'\n",
    "for i in range(a+1):\n",
    "    list1 = []\n",
    "    list1.extend(str*i)\n",
    "    print(list1)"
   ]
  },
  {
   "cell_type": "code",
   "execution_count": 23,
   "metadata": {},
   "outputs": [
    {
     "name": "stdout",
     "output_type": "stream",
     "text": [
      "('Oyun', 'Bat')\n"
     ]
    }
   ],
   "source": [
    "#Даалгавар3\n",
    "def test(d):\n",
    "    return max(d, key = d.get), min(d, key = d.get)\n",
    "students = {\n",
    " 'Bat': 18,\n",
    " 'Oyun': 22,\n",
    " 'Dulam': 21,\n",
    " 'Suren': 20\n",
    "}\n",
    "\n",
    "print(test(students))"
   ]
  },
  {
   "cell_type": "code",
   "execution_count": 24,
   "metadata": {},
   "outputs": [
    {
     "name": "stdout",
     "output_type": "stream",
     "text": [
      "166833\n"
     ]
    }
   ],
   "source": [
    "#Даалгавар4 3-д хуваагдах\n",
    "import numpy as np\n",
    "arr = np.arange(1000)\n",
    "sum1 = 0\n",
    "for i in range(len(arr)):\n",
    "    if i%3 == 0:\n",
    "        sum1 += i\n",
    "print(sum1)"
   ]
  },
  {
   "cell_type": "code",
   "execution_count": 25,
   "metadata": {},
   "outputs": [
    {
     "name": "stdout",
     "output_type": "stream",
     "text": [
      "71071\n"
     ]
    }
   ],
   "source": [
    "#Даалгавар4 7-д хуваагдах \n",
    "arr = np.arange(1000)\n",
    "sum2 = 0\n",
    "for i in range(len(arr)):\n",
    "    if i%7 == 0:\n",
    "        sum2 += i\n",
    "print(sum2)"
   ]
  }
 ],
 "metadata": {
  "kernelspec": {
   "display_name": "Python 3",
   "language": "python",
   "name": "python3"
  },
  "language_info": {
   "codemirror_mode": {
    "name": "ipython",
    "version": 3
   },
   "file_extension": ".py",
   "mimetype": "text/x-python",
   "name": "python",
   "nbconvert_exporter": "python",
   "pygments_lexer": "ipython3",
   "version": "3.8.5"
  }
 },
 "nbformat": 4,
 "nbformat_minor": 4
}
