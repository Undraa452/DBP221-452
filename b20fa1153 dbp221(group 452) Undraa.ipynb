{
 "cells": [
  {
   "cell_type": "code",
   "execution_count": 2,
   "metadata": {},
   "outputs": [
    {
     "name": "stdout",
     "output_type": "stream",
     "text": [
      "python\n",
      "php\n",
      "java\n"
     ]
    }
   ],
   "source": [
    "#Бодлого1\n",
    "list1=['python','php','java']\n",
    "print(list1[0])\n",
    "print(list1[1])\n",
    "print(list1[2])"
   ]
  },
  {
   "cell_type": "code",
   "execution_count": 1,
   "metadata": {},
   "outputs": [
    {
     "name": "stdout",
     "output_type": "stream",
     "text": [
      "0 1 2 3 4 5 6 7 8 9\n",
      "45\n"
     ]
    }
   ],
   "source": [
    "#Бодлого2\n",
    "a = [int(s) for s in input().split()]\n",
    "res = 0\n",
    "k = 0\n",
    "for i in range(len(a)):\n",
    "    res += a[k]\n",
    "    k += 1\n",
    "print(res)"
   ]
  },
  {
   "cell_type": "code",
   "execution_count": 1,
   "metadata": {},
   "outputs": [
    {
     "name": "stdout",
     "output_type": "stream",
     "text": [
      "2 3 2 4 5\n",
      "240\n"
     ]
    }
   ],
   "source": [
    "#Бодлого3\n",
    "a = [int(s) for s in input().split()]\n",
    "mult = 1\n",
    "k = 0\n",
    "for i in range(len(a)):\n",
    "    mult *= a[k]\n",
    "    k += 1\n",
    "print(mult)"
   ]
  },
  {
   "cell_type": "code",
   "execution_count": 1,
   "metadata": {},
   "outputs": [
    {
     "name": "stdout",
     "output_type": "stream",
     "text": [
      "2 3 4 2 7 6 5\n",
      "20\n"
     ]
    }
   ],
   "source": [
    "#Бодлого4\n",
    "a = [int(s) for s in input().split()]\n",
    "mult = a[2]*a[-1]\n",
    "print(mult)"
   ]
  },
  {
   "cell_type": "code",
   "execution_count": 3,
   "metadata": {
    "scrolled": true
   },
   "outputs": [
    {
     "name": "stdout",
     "output_type": "stream",
     "text": [
      "2 45 6 26 73 8 21 17 \n",
      "Хамгийн их гишүүн нь: 73\n",
      "Хамгийн бага гишүүн нь: 2\n"
     ]
    }
   ],
   "source": [
    "#Бодлого5\n",
    "a = [int(s) for s in input().split()]\n",
    "index_of_min = 0\n",
    "index_of_max = 0\n",
    "for i in range(1, len(a)):\n",
    "    if a[i] > a[index_of_max]:\n",
    "        index_of_max = i\n",
    "    if a[i] < a[index_of_min]:\n",
    "        index_of_min = i\n",
    "print(\"Хамгийн их гишүүн нь:\", a[index_of_max])\n",
    "print(\"Хамгийн бага гишүүн нь:\", a[index_of_min])"
   ]
  },
  {
   "cell_type": "code",
   "execution_count": 20,
   "metadata": {},
   "outputs": [
    {
     "name": "stdout",
     "output_type": "stream",
     "text": [
      "hahaha ugugu 45274 68427\n",
      "2\n"
     ]
    }
   ],
   "source": [
    "#Бодлого6\n",
    "a = [str(s) for s in input().split()]\n",
    "res = 0\n",
    "for i in range(len(a)):\n",
    "    if a[i][0] == a[i][-1]:\n",
    "        if len(a[i])>=2:\n",
    "            res += 1\n",
    "print(res)"
   ]
  },
  {
   "cell_type": "code",
   "execution_count": 3,
   "metadata": {},
   "outputs": [
    {
     "name": "stdout",
     "output_type": "stream",
     "text": [
      "abcda abcd 121 121 abcd\n",
      "['abcda', 'abcd', '121']\n"
     ]
    }
   ],
   "source": [
    "#Бодлого7\n",
    "a = [str(s) for s in input().split()]\n",
    "res = []\n",
    "for i in a:\n",
    "    if i not in res:\n",
    "        res.append(i)\n",
    "print(res)"
   ]
  },
  {
   "cell_type": "code",
   "execution_count": 6,
   "metadata": {},
   "outputs": [
    {
     "name": "stdout",
     "output_type": "stream",
     "text": [
      "\n",
      "Жагсаалт хоосон байна.\n"
     ]
    }
   ],
   "source": [
    "#Бодлого8\n",
    "a = [str(s) for s in input().split()]\n",
    "if len(a) == 0:\n",
    "    print('Жагсаалт хоосон байна.')\n",
    "else:\n",
    "    print('Жагсаалтад', len(a), 'гишүүн байна.')"
   ]
  },
  {
   "cell_type": "code",
   "execution_count": 9,
   "metadata": {},
   "outputs": [
    {
     "name": "stdout",
     "output_type": "stream",
     "text": [
      "1 2 3 4 5 6 7 8 9 10\n",
      "['1', '2', '3', '5', '7', '9', '10']\n"
     ]
    }
   ],
   "source": [
    "#Бодлого9\n",
    "a = [str(s) for s in input().split()]\n",
    "del a[3]\n",
    "del a[4]\n",
    "del a[5]\n",
    "print(a)"
   ]
  },
  {
   "cell_type": "code",
   "execution_count": 26,
   "metadata": {},
   "outputs": [
    {
     "name": "stdout",
     "output_type": "stream",
     "text": [
      "3 5 7 26\n",
      "(3, 5, 7, 26)\n"
     ]
    }
   ],
   "source": [
    "#Бодлого10\n",
    "a = [int(s) for s in input().split()]\n",
    "x = tuple(a)\n",
    "print(x)"
   ]
  },
  {
   "cell_type": "code",
   "execution_count": 27,
   "metadata": {},
   "outputs": [
    {
     "name": "stdout",
     "output_type": "stream",
     "text": [
      "kiwi\n",
      "(' orange ', ' apple ', ' pear ', ' banana ', 'kiwi')\n"
     ]
    }
   ],
   "source": [
    "#Бодлого11\n",
    "x = (\" orange \", \" apple \", \" pear \", \" banana \") \n",
    "y = list(x) \n",
    "y.append(input()) \n",
    "x = tuple(y) \n",
    "print (x)"
   ]
  },
  {
   "cell_type": "code",
   "execution_count": 31,
   "metadata": {},
   "outputs": [
    {
     "name": "stdout",
     "output_type": "stream",
     "text": [
      "orange apple pear banana kiwi\n",
      "apple\n",
      "banana\n"
     ]
    }
   ],
   "source": [
    "#Бодлого12\n",
    "a = [str(s) for s in input().split()]\n",
    "x = tuple(a)\n",
    "print(x[1])\n",
    "print(x[-2])"
   ]
  },
  {
   "cell_type": "code",
   "execution_count": 1,
   "metadata": {},
   "outputs": [
    {
     "name": "stdout",
     "output_type": "stream",
     "text": [
      "pear kiwi\n",
      "(' orange ', ' apple ', ' pear ', ' banana ', 'pear', 'kiwi')\n",
      "Tuple –д гараас оруулсан утга байна.\n"
     ]
    }
   ],
   "source": [
    "#Бодлого13\n",
    "x1 = (\" orange \", \" apple \", \" pear \", \" banana \") \n",
    "y = list(x1) \n",
    "a = [str(s) for s in input().split()]\n",
    "y.extend(a) \n",
    "x2 = tuple(y) \n",
    "print(x2)\n",
    "if len(a)!=0:\n",
    "        print('Tuple –д гараас оруулсан утга байна.')\n",
    "else:\n",
    "        print('Tuple –д гараас оруулсан утга байхгүй.')     "
   ]
  },
  {
   "cell_type": "code",
   "execution_count": 3,
   "metadata": {},
   "outputs": [
    {
     "name": "stdout",
     "output_type": "stream",
     "text": [
      "orange apple pear banana kiwi\n",
      "orange\n",
      "apple\n",
      "pear\n",
      "banana\n",
      "kiwi\n"
     ]
    }
   ],
   "source": [
    "#Бодлого14\n",
    "a = [str(s) for s in input().split()]\n",
    "x = tuple(a)\n",
    "for i in range(len(x)):\n",
    "    print(x[i])"
   ]
  },
  {
   "cell_type": "code",
   "execution_count": 9,
   "metadata": {},
   "outputs": [
    {
     "name": "stdout",
     "output_type": "stream",
     "text": [
      "1 2 3\n",
      "1 4 5\n",
      "{'4', '5', '3', '1', '2'}\n"
     ]
    }
   ],
   "source": [
    "#Бодлого15\n",
    "x = (set(input().split()))\n",
    "y = (set(input().split()))\n",
    "Newset = x.union(y)\n",
    "print(Newset)"
   ]
  },
  {
   "cell_type": "code",
   "execution_count": 15,
   "metadata": {},
   "outputs": [
    {
     "name": "stdout",
     "output_type": "stream",
     "text": [
      "10 2 3 4 8\n",
      "1 2 6 4 5 7\n",
      "2 4\n"
     ]
    }
   ],
   "source": [
    "#Бодлого16\n",
    "print(*sorted(set(input().split()) & set(input().split()), key=int))"
   ]
  },
  {
   "cell_type": "code",
   "execution_count": 18,
   "metadata": {},
   "outputs": [
    {
     "name": "stdout",
     "output_type": "stream",
     "text": [
      "1 2 3 4 5 1 2 1 2 7 3\n",
      "6\n"
     ]
    }
   ],
   "source": [
    "#Бодлого17\n",
    "print(len(set(input().split())))"
   ]
  },
  {
   "cell_type": "code",
   "execution_count": 6,
   "metadata": {},
   "outputs": [
    {
     "name": "stdout",
     "output_type": "stream",
     "text": [
      "orange apple pear banana kiwi\n",
      "{'apple', 'kiwi', 'orange', 'pear', 'banana'}\n",
      "pear\n",
      "{'apple', 'kiwi', 'orange', 'banana'}\n"
     ]
    }
   ],
   "source": [
    "#Бодлого18\n",
    "a = set(input().split())\n",
    "print(a)\n",
    "a.remove(input())\n",
    "print(a)"
   ]
  },
  {
   "cell_type": "code",
   "execution_count": 5,
   "metadata": {},
   "outputs": [
    {
     "name": "stdout",
     "output_type": "stream",
     "text": [
      "orange apple pear banana kiwi\n",
      "set()\n"
     ]
    }
   ],
   "source": [
    "#Бодлого19\n",
    "a = set(input().split())\n",
    "a.clear()\n",
    "print(a)"
   ]
  },
  {
   "cell_type": "code",
   "execution_count": 13,
   "metadata": {},
   "outputs": [
    {
     "name": "stdout",
     "output_type": "stream",
     "text": [
      "orange apple pear banana kiwi\n",
      "Set устсан.\n"
     ]
    }
   ],
   "source": [
    "#Бодлого20\n",
    "a = set(input().split())\n",
    "del a\n",
    "print(\"Set устсан.\")"
   ]
  },
  {
   "cell_type": "code",
   "execution_count": 14,
   "metadata": {},
   "outputs": [
    {
     "name": "stdout",
     "output_type": "stream",
     "text": [
      "{'Manufacturer': 'Tesla', 'Model': ' 3', 'Year': 2021}\n",
      "Tesla\n",
      "Tesla\n",
      "{'Manufacturer': 'Tesla', 'Model': 'S ', 'Year': 2021}\n"
     ]
    }
   ],
   "source": [
    "dict1 = { \n",
    "'Manufacturer': 'Tesla', \n",
    "'Model': ' 3', \n",
    "'Year': 2021 } \n",
    "print (dict1)\n",
    "\n",
    "x = dict1['Manufacturer']\n",
    "print(x)\n",
    "\n",
    "x = dict1.get('Manufacturer')\n",
    "print(x)\n",
    "\n",
    "dict1['Model'] = 'S ' \n",
    "print(dict1)"
   ]
  },
  {
   "cell_type": "code",
   "execution_count": 6,
   "metadata": {},
   "outputs": [
    {
     "name": "stdout",
     "output_type": "stream",
     "text": [
      "4\n",
      "5 4\n",
      "1 25\n",
      "3 75\n",
      "6 14\n",
      "['1', '3', '5', '6']\n",
      "['6', '5', '3', '1']\n",
      "['14', '25', '4', '75']\n",
      "['75', '4', '25', '14']\n"
     ]
    }
   ],
   "source": [
    "#Бодлого21\n",
    "#n нь нийт түлхүүр үгийн тоо болно.\n",
    "n = int(input())\n",
    "d = {}\n",
    "for i in range(n):\n",
    "    first, second = input().split()\n",
    "    d[first] = second\n",
    "#Түлхүүр үгс нь өсч буурах\n",
    "print(sorted(d.keys()))\n",
    "print(sorted(d.keys() ,  reverse= True))\n",
    "#Утгатай нь өсч буурах\n",
    "print(sorted(d.values()))\n",
    "print(sorted(d.values() ,  reverse= True))"
   ]
  },
  {
   "cell_type": "code",
   "execution_count": 11,
   "metadata": {},
   "outputs": [
    {
     "name": "stdout",
     "output_type": "stream",
     "text": [
      "3\n",
      "Нэр ундраа\n",
      "Нас 19\n",
      "Код B20FA1153\n",
      "Нэр\n",
      "Уг түлхүүр dictionary-д байна.\n"
     ]
    }
   ],
   "source": [
    "#Бодлого22\n",
    "#n нь нийт түлхүүр үгийн тоо болно.\n",
    "n = int(input())\n",
    "d = {}\n",
    "for i in range(n):\n",
    "    first, second = input().split()\n",
    "    d[first] = second\n",
    "if input() in d:\n",
    "    print(\"Уг түлхүүр dictionary-д байна.\")"
   ]
  },
  {
   "cell_type": "code",
   "execution_count": 13,
   "metadata": {},
   "outputs": [
    {
     "name": "stdout",
     "output_type": "stream",
     "text": [
      "3\n",
      "Нэр Ундраа\n",
      "Нас 19\n",
      "Код b20fa1153\n",
      "19\n",
      "Уг утга dictionary-д байна.\n"
     ]
    }
   ],
   "source": [
    "#Бодлого23\n",
    "#n нь нийт түлхүүр үгийн тоо болно.\n",
    "n = int(input())\n",
    "d = {}\n",
    "for i in range(n):\n",
    "    first, second = input().split()\n",
    "    d[second] = first\n",
    "if input() in d:\n",
    "    print(\"Уг утга dictionary-д байна.\")"
   ]
  },
  {
   "cell_type": "code",
   "execution_count": 17,
   "metadata": {},
   "outputs": [
    {
     "name": "stdout",
     "output_type": "stream",
     "text": [
      "3\n",
      "Нэр Ундраа \n",
      "Нас 19\n",
      "Код b20fa1153\n",
      "Нэр Ундраа\n",
      "Нас 19\n",
      "Код b20fa1153\n"
     ]
    }
   ],
   "source": [
    "#Бодлого24\n",
    "#n нь нийт түлхүүр үгийн тоо болно.\n",
    "n = int(input())\n",
    "d = {}\n",
    "for i in range(n):\n",
    "    x, y = input().split()\n",
    "    d[x] = y\n",
    "for x,y in d.items():\n",
    "    print(x,y)"
   ]
  },
  {
   "cell_type": "code",
   "execution_count": 22,
   "metadata": {},
   "outputs": [
    {
     "name": "stdout",
     "output_type": "stream",
     "text": [
      "2\n",
      "ner undraa\n",
      "nas 19\n",
      "2\n",
      "kod b20fa1153\n",
      "utas 88840932\n",
      "{'kod': 'b20fa1153', 'utas': '88840932', 'ner': 'undraa', 'nas': '19'}\n"
     ]
    }
   ],
   "source": [
    "#Бодлого25\n",
    "#n нь нийт түлхүүр үгийн тоо болно.\n",
    "n = int(input())\n",
    "d1 = {}\n",
    "for i in range(n):\n",
    "    x, y = input().split()\n",
    "    d1[x] = y\n",
    "#k нь нийт түлхүүр үгийн тоо болно.\n",
    "k = int(input())\n",
    "d2 = {}\n",
    "for i in range(k):\n",
    "    first, second = input().split()\n",
    "    d2[first] = second\n",
    "d2.update(d1)\n",
    "print(d2)"
   ]
  },
  {
   "cell_type": "code",
   "execution_count": 24,
   "metadata": {},
   "outputs": [
    {
     "name": "stdout",
     "output_type": "stream",
     "text": [
      "5\n",
      "Мат 30\n",
      "Мат 20\n",
      "Тамир 30\n",
      "Тамир 25\n",
      "Мат 25\n",
      "Дүн: Мат 75\n",
      "Дүн: Тамир 55\n"
     ]
    }
   ],
   "source": [
    "#Бодлого26\n",
    "buh_onoo = {}\n",
    "for _ in range(int(input())):\n",
    "    hicheel, onoo = input().split()\n",
    "    buh_onoo[hicheel] = buh_onoo.get(hicheel, 0) + int(onoo)\n",
    "\n",
    "for hicheel, onoo in sorted(buh_onoo.items()):\n",
    "    print(\"Дүн:\", hicheel, onoo)"
   ]
  }
 ],
 "metadata": {
  "kernelspec": {
   "display_name": "Python 3",
   "language": "python",
   "name": "python3"
  },
  "language_info": {
   "codemirror_mode": {
    "name": "ipython",
    "version": 3
   },
   "file_extension": ".py",
   "mimetype": "text/x-python",
   "name": "python",
   "nbconvert_exporter": "python",
   "pygments_lexer": "ipython3",
   "version": "3.8.5"
  }
 },
 "nbformat": 4,
 "nbformat_minor": 4
}
