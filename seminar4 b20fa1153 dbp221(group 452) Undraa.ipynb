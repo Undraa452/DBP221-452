{
 "cells": [
  {
   "cell_type": "code",
   "execution_count": 2,
   "metadata": {},
   "outputs": [
    {
     "data": {
      "text/plain": [
       "array([ 50,  51,  52,  53,  54,  55,  56,  57,  58,  59,  60,  61,  62,\n",
       "        63,  64,  65,  66,  67,  68,  69,  70,  71,  72,  73,  74,  75,\n",
       "        76,  77,  78,  79,  80,  81,  82,  83,  84,  85,  86,  87,  88,\n",
       "        89,  90,  91,  92,  93,  94,  95,  96,  97,  98,  99, 100])"
      ]
     },
     "execution_count": 2,
     "metadata": {},
     "output_type": "execute_result"
    }
   ],
   "source": [
    "#Бодлого1\n",
    "import numpy as np\n",
    "my_arr = np.arange(50 , 100+1)\n",
    "my_arr"
   ]
  },
  {
   "cell_type": "code",
   "execution_count": 3,
   "metadata": {},
   "outputs": [
    {
     "name": "stdout",
     "output_type": "stream",
     "text": [
      "[0. 0. 0. 0. 0. 0. 0. 0. 0. 0.]\n",
      "[1. 1. 1. 1. 1. 1. 1. 1. 1. 1.]\n",
      "[6. 6. 6. 6. 6. 6. 6. 6. 6. 6.]\n"
     ]
    }
   ],
   "source": [
    "#Бодлого2\n",
    "arr = np.zeros(10)\n",
    "print(arr)\n",
    "arr1 = np.ones(10)\n",
    "print(arr1)\n",
    "arr2 = arr + 6\n",
    "print(arr2)"
   ]
  },
  {
   "cell_type": "code",
   "execution_count": 7,
   "metadata": {},
   "outputs": [
    {
     "name": "stdout",
     "output_type": "stream",
     "text": [
      "[[20 21 22 23]\n",
      " [24 25 26 27]\n",
      " [28 29 30 31]]\n"
     ]
    }
   ],
   "source": [
    "#Бодлого3\n",
    "data = np.arange(20, 32)\n",
    "a= np.reshape(data, (3,4))\n",
    "print(a)"
   ]
  },
  {
   "cell_type": "code",
   "execution_count": 8,
   "metadata": {},
   "outputs": [
    {
     "name": "stdout",
     "output_type": "stream",
     "text": [
      "[[1. 0. 0.]\n",
      " [0. 1. 0.]\n",
      " [0. 0. 1.]]\n"
     ]
    }
   ],
   "source": [
    "#Бодлого4\n",
    "v = np.ones(3)\n",
    "D = np.diag(v)\n",
    "print (D)"
   ]
  },
  {
   "cell_type": "code",
   "execution_count": 9,
   "metadata": {},
   "outputs": [
    {
     "name": "stdout",
     "output_type": "stream",
     "text": [
      "[[1 0 0 0 0]\n",
      " [0 2 0 0 0]\n",
      " [0 0 3 0 0]\n",
      " [0 0 0 4 0]\n",
      " [0 0 0 0 5]]\n"
     ]
    }
   ],
   "source": [
    "#Бодлого5\n",
    "v = np.arange(1,5+1)\n",
    "D = np.diag(v)\n",
    "print(D)"
   ]
  },
  {
   "cell_type": "code",
   "execution_count": 10,
   "metadata": {},
   "outputs": [
    {
     "name": "stdout",
     "output_type": "stream",
     "text": [
      "[[0 1 2]\n",
      " [3 4 5]]\n",
      "Нийт элементүүдийн нийлбэр: 15\n",
      "Баганын нийлбэр: [3 5 7]\n",
      "Мөрийн нийлбэр: [ 3 12]\n"
     ]
    }
   ],
   "source": [
    "#Бодлого6\n",
    "data = np.arange(6).reshape((2,3))\n",
    "print(data)\n",
    "print('Нийт элементүүдийн нийлбэр:',data.sum())\n",
    "#Баганын дагуу нэмэх\n",
    "print('Баганын нийлбэр:',data.sum(axis=0))\n",
    "#Мөрийн дагуу нэмэх\n",
    "print('Мөрийн нийлбэр:',data.sum(axis=1))"
   ]
  },
  {
   "cell_type": "code",
   "execution_count": 11,
   "metadata": {},
   "outputs": [],
   "source": [
    "#Бодлого7\n",
    "#Seasons\n",
    "Seasons = [\"2012\",\"2013\",\"2014\",\"2015\",\"2016\",\"2017\",\"2018\",\"2019\",\"2020\",\"2021\"]\n",
    "Sdict = {\"2012\":0,\"2013\":1,\"2014\":2,\"2015\":3,\"2016\":4,\"2017\":5,\"2018\":6,\"2019\":7,\"2020\":8,\"2021\":9}\n",
    "\n",
    "#Players\n",
    "Players = [\"DavidDeaGea\",\"CristianoRonaldo\",\"PaulPogba\",\"RaphaelVarane\",\"JadonSancho\",\"HarryMaguire\",\"MarcusRashford\",\"EdinsonCavani\",\"LukeShaw\",\"VictorLindelof\"]\n",
    "Pdict = {\"DavidDeaGea\":0,\"CristianoRonaldo\":1,\"PaulPogba\":2,\"RaphaelVarane\":3,\"JadonSancho\":4,\"HarryMaguire\":5,\"MarcusRashford\":6,\"EdinsonCavani\":7,\"LukeShaw\":8,\"VictorLindelof\":9}\n",
    "\n",
    "#Salaries\n",
    "DavidDeaGea_Salary = [0,0,3744000,3744000,10400000,10400000,10400000,10400000,18200000,18200000]\n",
    "CristianoRonaldo_Salary = [0,29588000,26156000,25116000,30316000,31356000,51480000,49400000,52000000,24960000]\n",
    "PaulPogba_Salary = [0,0,1456000,5876000,5616000,15080000,10400000,15080000,15080000,15080000]\n",
    "RaphaelVarane_Salary = [0,0,1144000,3588000,3432000,4212000,7436000,9308000,8944000,10244000]\n",
    "JadonSancho_Salary = [0,0,0,0,0,5200,1144000,2704000,5148000,8320000]\n",
    "HarryMaguire_Salary = [0,0,166400,572000,332400,884000,2132000,5720000,9880000,9880000]\n",
    "MarcusRashford_Salary = [0,0,0,4160,150800,988000,988000,2288000,9360000,9360000]\n",
    "EdinsonCavani_Salary = [0,0,10972000,9672000,6864000,8164000,16432000,16588000,13832000,8320000]\n",
    "LukeShaw_Salary = [0,0,1300000,5720000,5720000,5720000,5720000,7800000,7800000,7800000]\n",
    "VictorLindelof_Salary = [0,0,18200,24440,182000,338000,6240000,6240000,7280000,7280000]\n",
    "#Matrix\n",
    "Salary = np.array([DavidDeaGea_Salary, CristianoRonaldo_Salary, PaulPogba_Salary, RaphaelVarane_Salary, JadonSancho_Salary, HarryMaguire_Salary, MarcusRashford_Salary, EdinsonCavani_Salary, LukeShaw_Salary, VictorLindelof_Salary])\n",
    "\n",
    "#Goals\n",
    "DavidDeaGea_G = [0,0,0,0,0,0,0,0,0,0]\n",
    "CristianoRonaldo_G = [0,0,0,0,0,0,0,0,0,12]\n",
    "PaulPogba_G = [0,0,0,0,5,6,13,1,3,1]\n",
    "RaphaelVarane_G = [0,0,0,0,0,0,0,0,0,0]\n",
    "JadonSancho_G = [0,0,0,0,0,0,0,0,0,3]\n",
    "HarryMaguire_G =[0,0,0,0,0,0,0,0,0,1]\n",
    "MarcusRashford_G = [0,0,0,0,5,7,10,17,11,4]\n",
    "EdinsonCavani_G = [0,0,0,0,0,0,0,0,10,2]\n",
    "LukeShaw_G = [0,0,0,0,0,0,0,1,1,0]\n",
    "VictorLindelof_G = [0,0,0,0,0,0,0,0,1,0]\n",
    "#Matrix\n",
    "Goals  = np.array([DavidDeaGea_G, CristianoRonaldo_G, PaulPogba_G, RaphaelVarane_G, JadonSancho_G, HarryMaguire_G, MarcusRashford_G, EdinsonCavani_G, LukeShaw_G, VictorLindelof_G])"
   ]
  },
  {
   "cell_type": "code",
   "execution_count": 14,
   "metadata": {},
   "outputs": [
    {
     "name": "stdout",
     "output_type": "stream",
     "text": [
      "Нийт элементүүдийн нийлбэр: 773889600\n",
      "Баганын нийлбэр: [        0  29588000  44956600  54316600  63013200  77147200 112372000\n",
      " 125528000 147524000 119444000]\n",
      "Мөрийн нийлбэр: [ 85488000 320372000  83668000  48308000  17321200  29566800  23138960\n",
      "  90844000  47580000  27602640]\n"
     ]
    }
   ],
   "source": [
    "#Salary\n",
    "print('Нийт элементүүдийн нийлбэр:',Salary.sum())\n",
    "#Баганын дагуу нэмэх\n",
    "print('Баганын нийлбэр:',Salary.sum(axis=0))\n",
    "#Мөрийн дагуу нэмэх\n",
    "print('Мөрийн нийлбэр:',Salary.sum(axis=1))"
   ]
  },
  {
   "cell_type": "code",
   "execution_count": 15,
   "metadata": {},
   "outputs": [
    {
     "name": "stdout",
     "output_type": "stream",
     "text": [
      "Нийт элементүүдийн нийлбэр: 114\n",
      "Баганын нийлбэр: [ 0  0  0  0 10 13 23 19 26 23]\n",
      "Мөрийн нийлбэр: [ 0 12 29  0  3  1 54 12  2  1]\n"
     ]
    }
   ],
   "source": [
    "#Goals\n",
    "print('Нийт элементүүдийн нийлбэр:',Goals.sum())\n",
    "#Баганын дагуу нэмэх\n",
    "print('Баганын нийлбэр:',Goals.sum(axis=0))\n",
    "#Мөрийн дагуу нэмэх\n",
    "print('Мөрийн нийлбэр:',Goals.sum(axis=1))"
   ]
  }
 ],
 "metadata": {
  "kernelspec": {
   "display_name": "Python 3",
   "language": "python",
   "name": "python3"
  },
  "language_info": {
   "codemirror_mode": {
    "name": "ipython",
    "version": 3
   },
   "file_extension": ".py",
   "mimetype": "text/x-python",
   "name": "python",
   "nbconvert_exporter": "python",
   "pygments_lexer": "ipython3",
   "version": "3.8.5"
  }
 },
 "nbformat": 4,
 "nbformat_minor": 4
}
